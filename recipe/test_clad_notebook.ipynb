{
 "cells": [
  {
   "cell_type": "code",
   "execution_count": 1,
   "id": "d3ffb74c-3387-4005-b724-c5419606747a",
   "metadata": {},
   "outputs": [],
   "source": [
    "#include \"clad/Differentiator/Differentiator.h\"\n",
    "#include <iostream>"
   ]
  },
  {
   "cell_type": "code",
   "execution_count": 2,
   "id": "96cf8c89-266e-4a87-830c-206a5235be4c",
   "metadata": {},
   "outputs": [
    {
     "name": "stdout",
     "output_type": "stream",
     "text": [
      "hello, world\n"
     ]
    }
   ],
   "source": [
    "std::cout << \"hello, world\" << std::endl;"
   ]
  },
  {
   "cell_type": "code",
   "execution_count": 3,
   "id": "cc964715-e371-4765-878f-31777ca285a0",
   "metadata": {},
   "outputs": [],
   "source": [
    "double fn(double x, double y) {\n",
    "  return x*x*y + y*y;\n",
    "}"
   ]
  },
  {
   "cell_type": "code",
   "execution_count": 4,
   "id": "0c42f206-39f0-4357-8bf1-4a0a73f0f1d3",
   "metadata": {},
   "outputs": [],
   "source": [
    "auto fn_dx = clad::differentiate(fn, \"x\");"
   ]
  },
  {
   "cell_type": "code",
   "execution_count": 5,
   "id": "cfdddab3-188f-4f3e-9afb-767d1e34cdba",
   "metadata": {},
   "outputs": [
    {
     "name": "stdout",
     "output_type": "stream",
     "text": [
      "30\n"
     ]
    }
   ],
   "source": [
    "std::cout << fn_dx.execute(5, 3) << std::endl;"
   ]
  }
 ],
 "metadata": {
  "kernelspec": {
   "display_name": "C++17 CLAD",
   "language": "cpp",
   "name": "xcpp17-clad"
  },
  "language_info": {
   "codemirror_mode": "text/x-c++src",
   "file_extension": ".cpp",
   "mimetype": "text/x-c++src",
   "name": "C++",
   "version": "17"
  }
 },
 "nbformat": 4,
 "nbformat_minor": 5
}
